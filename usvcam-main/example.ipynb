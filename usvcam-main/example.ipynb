{
 "cells": [
  {
   "cell_type": "markdown",
   "metadata": {},
   "source": [
    "# Example codes for analyses with USVCAM\n",
    "*see also Chapter 4 in the user guide.*\n",
    "\n",
    "You can download example data from [here](https://1drv.ms/u/s!AlpK-j-ONYp37SV3Nf3b7ooyW8eb?e=txUYkZ) (1.7 GB)."
   ]
  },
  {
   "cell_type": "markdown",
   "metadata": {},
   "source": [
    "## importing the library"
   ]
  },
  {
   "cell_type": "code",
   "execution_count": 7,
   "metadata": {
    "ExecuteTime": {
     "end_time": "2023-07-10T02:58:24.925198Z",
     "start_time": "2023-07-10T02:58:24.909184500Z"
    }
   },
   "outputs": [],
   "source": [
    "import os\n",
    "\n",
    "import usvcam.analysis"
   ]
  },
  {
   "cell_type": "markdown",
   "metadata": {},
   "source": [
    "## USV segmentation, step-1: converting dat file to wav file"
   ]
  },
  {
   "cell_type": "code",
   "execution_count": 9,
   "metadata": {
    "ExecuteTime": {
     "end_time": "2023-07-10T02:59:08.014864400Z",
     "start_time": "2023-07-10T02:59:07.991865200Z"
    }
   },
   "outputs": [
    {
     "name": "stdout",
     "output_type": "stream",
     "text": [
      "C:\\Users\\experimenter\\PycharmProjects\\Accustic_Camera\\usvcam-main\n"
     ]
    },
    {
     "ename": "OSError",
     "evalue": "Unable to open file (unable to open file: name = './test_data/single_mouse/param.h5', errno = 2, error message = 'No such file or directory', flags = 0, o_flags = 0)",
     "output_type": "error",
     "traceback": [
      "\u001B[1;31m---------------------------------------------------------------------------\u001B[0m",
      "\u001B[1;31mOSError\u001B[0m                                   Traceback (most recent call last)",
      "\u001B[1;32m<ipython-input-9-2acfe483bb10>\u001B[0m in \u001B[0;36m<module>\u001B[1;34m\u001B[0m\n\u001B[0;32m      5\u001B[0m \u001B[1;33m\u001B[0m\u001B[0m\n\u001B[0;32m      6\u001B[0m \u001B[1;32mfor\u001B[0m \u001B[0mdata_dir\u001B[0m \u001B[1;32min\u001B[0m \u001B[0mdata_dirs\u001B[0m\u001B[1;33m:\u001B[0m\u001B[1;33m\u001B[0m\u001B[1;33m\u001B[0m\u001B[0m\n\u001B[1;32m----> 7\u001B[1;33m     \u001B[0musvcam\u001B[0m\u001B[1;33m.\u001B[0m\u001B[0manalysis\u001B[0m\u001B[1;33m.\u001B[0m\u001B[0mdat2wav\u001B[0m\u001B[1;33m(\u001B[0m\u001B[0mdata_dir\u001B[0m\u001B[1;33m,\u001B[0m \u001B[1;36m3\u001B[0m\u001B[1;33m)\u001B[0m\u001B[1;33m\u001B[0m\u001B[1;33m\u001B[0m\u001B[0m\n\u001B[0m",
      "\u001B[1;32m~\\PycharmProjects\\Accustic_Camera\\usvcam-main\\usvcam\\analysis.py\u001B[0m in \u001B[0;36mdat2wav\u001B[1;34m(data_dir, i_ch)\u001B[0m\n\u001B[0;32m     63\u001B[0m \u001B[1;33m\u001B[0m\u001B[0m\n\u001B[0;32m     64\u001B[0m \u001B[1;32mdef\u001B[0m \u001B[0mdat2wav\u001B[0m\u001B[1;33m(\u001B[0m\u001B[0mdata_dir\u001B[0m\u001B[1;33m,\u001B[0m \u001B[0mi_ch\u001B[0m\u001B[1;33m)\u001B[0m\u001B[1;33m:\u001B[0m\u001B[1;33m\u001B[0m\u001B[1;33m\u001B[0m\u001B[0m\n\u001B[1;32m---> 65\u001B[1;33m     \u001B[0mtool\u001B[0m\u001B[1;33m.\u001B[0m\u001B[0mdat2wav\u001B[0m\u001B[1;33m(\u001B[0m\u001B[0mdata_dir\u001B[0m\u001B[1;33m,\u001B[0m \u001B[0mi_ch\u001B[0m\u001B[1;33m)\u001B[0m\u001B[1;33m\u001B[0m\u001B[1;33m\u001B[0m\u001B[0m\n\u001B[0m",
      "\u001B[1;32m~\\PycharmProjects\\Accustic_Camera\\usvcam-main\\usvcam\\tool.py\u001B[0m in \u001B[0;36mdat2wav\u001B[1;34m(data_dir, i_ch)\u001B[0m\n\u001B[0;32m    802\u001B[0m     \u001B[0mfpath_wav\u001B[0m \u001B[1;33m=\u001B[0m \u001B[0mdata_dir\u001B[0m \u001B[1;33m+\u001B[0m \u001B[1;34m'/'\u001B[0m \u001B[1;33m+\u001B[0m \u001B[0mos\u001B[0m\u001B[1;33m.\u001B[0m\u001B[0mpath\u001B[0m\u001B[1;33m.\u001B[0m\u001B[0msplitext\u001B[0m\u001B[1;33m(\u001B[0m\u001B[0mos\u001B[0m\u001B[1;33m.\u001B[0m\u001B[0mpath\u001B[0m\u001B[1;33m.\u001B[0m\u001B[0mbasename\u001B[0m\u001B[1;33m(\u001B[0m\u001B[0mfpath_dat\u001B[0m\u001B[1;33m)\u001B[0m\u001B[1;33m)\u001B[0m\u001B[1;33m[\u001B[0m\u001B[1;36m0\u001B[0m\u001B[1;33m]\u001B[0m \u001B[1;33m+\u001B[0m \u001B[1;34m'.ch{:d}.wav'\u001B[0m\u001B[1;33m.\u001B[0m\u001B[0mformat\u001B[0m\u001B[1;33m(\u001B[0m\u001B[0mi_ch\u001B[0m\u001B[1;33m)\u001B[0m\u001B[1;33m\u001B[0m\u001B[1;33m\u001B[0m\u001B[0m\n\u001B[0;32m    803\u001B[0m     \u001B[0mparamfile\u001B[0m \u001B[1;33m=\u001B[0m \u001B[0mdata_dir\u001B[0m \u001B[1;33m+\u001B[0m \u001B[1;34m'/param.h5'\u001B[0m\u001B[1;33m\u001B[0m\u001B[1;33m\u001B[0m\u001B[0m\n\u001B[1;32m--> 804\u001B[1;33m     \u001B[1;32mwith\u001B[0m \u001B[0mh5py\u001B[0m\u001B[1;33m.\u001B[0m\u001B[0mFile\u001B[0m\u001B[1;33m(\u001B[0m\u001B[0mparamfile\u001B[0m\u001B[1;33m,\u001B[0m \u001B[0mmode\u001B[0m\u001B[1;33m=\u001B[0m\u001B[1;34m'r'\u001B[0m\u001B[1;33m)\u001B[0m \u001B[1;32mas\u001B[0m \u001B[0mf\u001B[0m\u001B[1;33m:\u001B[0m\u001B[1;33m\u001B[0m\u001B[1;33m\u001B[0m\u001B[0m\n\u001B[0m\u001B[0;32m    805\u001B[0m         \u001B[0mfs\u001B[0m \u001B[1;33m=\u001B[0m \u001B[0mf\u001B[0m\u001B[1;33m[\u001B[0m\u001B[1;34m'/daq_param/fs'\u001B[0m\u001B[1;33m]\u001B[0m\u001B[1;33m[\u001B[0m\u001B[1;33m(\u001B[0m\u001B[1;33m)\u001B[0m\u001B[1;33m]\u001B[0m\u001B[1;33m\u001B[0m\u001B[1;33m\u001B[0m\u001B[0m\n\u001B[0;32m    806\u001B[0m         \u001B[0mn_ch\u001B[0m \u001B[1;33m=\u001B[0m \u001B[0mf\u001B[0m\u001B[1;33m[\u001B[0m\u001B[1;34m'/daq_param/n_ch'\u001B[0m\u001B[1;33m]\u001B[0m\u001B[1;33m[\u001B[0m\u001B[1;33m(\u001B[0m\u001B[1;33m)\u001B[0m\u001B[1;33m]\u001B[0m\u001B[1;33m\u001B[0m\u001B[1;33m\u001B[0m\u001B[0m\n",
      "\u001B[1;32m~\\.conda\\envs\\usvcam\\lib\\site-packages\\h5py\\_hl\\files.py\u001B[0m in \u001B[0;36m__init__\u001B[1;34m(self, name, mode, driver, libver, userblock_size, swmr, rdcc_nslots, rdcc_nbytes, rdcc_w0, track_order, **kwds)\u001B[0m\n\u001B[0;32m    406\u001B[0m                 fid = make_fid(name, mode, userblock_size,\n\u001B[0;32m    407\u001B[0m                                \u001B[0mfapl\u001B[0m\u001B[1;33m,\u001B[0m \u001B[0mfcpl\u001B[0m\u001B[1;33m=\u001B[0m\u001B[0mmake_fcpl\u001B[0m\u001B[1;33m(\u001B[0m\u001B[0mtrack_order\u001B[0m\u001B[1;33m=\u001B[0m\u001B[0mtrack_order\u001B[0m\u001B[1;33m)\u001B[0m\u001B[1;33m,\u001B[0m\u001B[1;33m\u001B[0m\u001B[1;33m\u001B[0m\u001B[0m\n\u001B[1;32m--> 408\u001B[1;33m                                swmr=swmr)\n\u001B[0m\u001B[0;32m    409\u001B[0m \u001B[1;33m\u001B[0m\u001B[0m\n\u001B[0;32m    410\u001B[0m             \u001B[1;32mif\u001B[0m \u001B[0misinstance\u001B[0m\u001B[1;33m(\u001B[0m\u001B[0mlibver\u001B[0m\u001B[1;33m,\u001B[0m \u001B[0mtuple\u001B[0m\u001B[1;33m)\u001B[0m\u001B[1;33m:\u001B[0m\u001B[1;33m\u001B[0m\u001B[1;33m\u001B[0m\u001B[0m\n",
      "\u001B[1;32m~\\.conda\\envs\\usvcam\\lib\\site-packages\\h5py\\_hl\\files.py\u001B[0m in \u001B[0;36mmake_fid\u001B[1;34m(name, mode, userblock_size, fapl, fcpl, swmr)\u001B[0m\n\u001B[0;32m    171\u001B[0m         \u001B[1;32mif\u001B[0m \u001B[0mswmr\u001B[0m \u001B[1;32mand\u001B[0m \u001B[0mswmr_support\u001B[0m\u001B[1;33m:\u001B[0m\u001B[1;33m\u001B[0m\u001B[1;33m\u001B[0m\u001B[0m\n\u001B[0;32m    172\u001B[0m             \u001B[0mflags\u001B[0m \u001B[1;33m|=\u001B[0m \u001B[0mh5f\u001B[0m\u001B[1;33m.\u001B[0m\u001B[0mACC_SWMR_READ\u001B[0m\u001B[1;33m\u001B[0m\u001B[1;33m\u001B[0m\u001B[0m\n\u001B[1;32m--> 173\u001B[1;33m         \u001B[0mfid\u001B[0m \u001B[1;33m=\u001B[0m \u001B[0mh5f\u001B[0m\u001B[1;33m.\u001B[0m\u001B[0mopen\u001B[0m\u001B[1;33m(\u001B[0m\u001B[0mname\u001B[0m\u001B[1;33m,\u001B[0m \u001B[0mflags\u001B[0m\u001B[1;33m,\u001B[0m \u001B[0mfapl\u001B[0m\u001B[1;33m=\u001B[0m\u001B[0mfapl\u001B[0m\u001B[1;33m)\u001B[0m\u001B[1;33m\u001B[0m\u001B[1;33m\u001B[0m\u001B[0m\n\u001B[0m\u001B[0;32m    174\u001B[0m     \u001B[1;32melif\u001B[0m \u001B[0mmode\u001B[0m \u001B[1;33m==\u001B[0m \u001B[1;34m'r+'\u001B[0m\u001B[1;33m:\u001B[0m\u001B[1;33m\u001B[0m\u001B[1;33m\u001B[0m\u001B[0m\n\u001B[0;32m    175\u001B[0m         \u001B[0mfid\u001B[0m \u001B[1;33m=\u001B[0m \u001B[0mh5f\u001B[0m\u001B[1;33m.\u001B[0m\u001B[0mopen\u001B[0m\u001B[1;33m(\u001B[0m\u001B[0mname\u001B[0m\u001B[1;33m,\u001B[0m \u001B[0mh5f\u001B[0m\u001B[1;33m.\u001B[0m\u001B[0mACC_RDWR\u001B[0m\u001B[1;33m,\u001B[0m \u001B[0mfapl\u001B[0m\u001B[1;33m=\u001B[0m\u001B[0mfapl\u001B[0m\u001B[1;33m)\u001B[0m\u001B[1;33m\u001B[0m\u001B[1;33m\u001B[0m\u001B[0m\n",
      "\u001B[1;32mh5py\\_objects.pyx\u001B[0m in \u001B[0;36mh5py._objects.with_phil.wrapper\u001B[1;34m()\u001B[0m\n",
      "\u001B[1;32mh5py\\_objects.pyx\u001B[0m in \u001B[0;36mh5py._objects.with_phil.wrapper\u001B[1;34m()\u001B[0m\n",
      "\u001B[1;32mh5py\\h5f.pyx\u001B[0m in \u001B[0;36mh5py.h5f.open\u001B[1;34m()\u001B[0m\n",
      "\u001B[1;31mOSError\u001B[0m: Unable to open file (unable to open file: name = './test_data/single_mouse/param.h5', errno = 2, error message = 'No such file or directory', flags = 0, o_flags = 0)"
     ]
    }
   ],
   "source": [
    "print(os.getcwd())\n",
    "\n",
    "data_dirs = ['./test_data/single_mouse',\n",
    "             './test_data/two_mice',]\n",
    "\n",
    "for data_dir in data_dirs:\n",
    "    usvcam.analysis.dat2wav(data_dir, 3)"
   ]
  },
  {
   "cell_type": "markdown",
   "metadata": {},
   "source": [
    "## USV segmentation, step-2: running USVSEG+\n",
    "**Before proceeding**, here, process the data directories with USVSEG+.\n",
    "\n",
    "See usvseg_plus/README.md for detail."
   ]
  },
  {
   "cell_type": "markdown",
   "metadata": {},
   "source": [
    "## Camera calibration"
   ]
  },
  {
   "cell_type": "code",
   "execution_count": null,
   "metadata": {},
   "outputs": [],
   "source": [
    "data_dir = './test_data/single_mouse'\n",
    "usvcam.analysis.calib_with_voc(data_dir, outpath='./test_data/micpos.h5')"
   ]
  },
  {
   "cell_type": "markdown",
   "metadata": {},
   "source": [
    "## (Optional) Creating a video to visualize USV localization"
   ]
  },
  {
   "cell_type": "code",
   "execution_count": null,
   "metadata": {},
   "outputs": [],
   "source": [
    "data_dir = './test_data/single_mouse'\n",
    "calibfile = './test_data/micpos.h5'\n",
    "usvcam.analysis.create_localization_video(data_dir, calibfile, color_eq=True)"
   ]
  },
  {
   "cell_type": "markdown",
   "metadata": {},
   "source": [
    "## Estimating parameters for USV assignment\n",
    "*This process takes hours. If you are using the test data and want to skip the process, download the result from [here](https://1drv.ms/u/s!AlpK-j-ONYp37SS_s967ZveXYM2D?e=h5GUqC).*"
   ]
  },
  {
   "cell_type": "code",
   "execution_count": null,
   "metadata": {},
   "outputs": [],
   "source": [
    "data_dir = './test_data/single_mouse'\n",
    "calibfile = './test_data/micpos.h5'\n",
    "assignfile = './test_data/assign_param.h5'\n",
    "\n",
    "usvcam.analysis.estimate_assign_param([data_dir], [calibfile], assignfile, show_figs=True)"
   ]
  },
  {
   "cell_type": "markdown",
   "metadata": {},
   "source": [
    "## USV assignment"
   ]
  },
  {
   "cell_type": "code",
   "execution_count": null,
   "metadata": {},
   "outputs": [],
   "source": [
    "data_dir = './test_data/two_mice'\n",
    "calibfile = './test_data/micpos.h5'\n",
    "assignfile = './test_data/assign_param.h5'\n",
    "n_mice = 2\n",
    "\n",
    "usvcam.analysis.assign_vocalizations(data_dir, calibfile, assignfile, n_mice)"
   ]
  },
  {
   "cell_type": "markdown",
   "metadata": {},
   "source": [
    "## (Optional) Creating a video to visualize USV assignment"
   ]
  },
  {
   "cell_type": "code",
   "execution_count": null,
   "metadata": {},
   "outputs": [],
   "source": [
    "data_dir = './test_data/two_mice'\n",
    "calibfile = './test_data/micpos.h5'\n",
    "assignfile = './test_data/assign_param.h5'\n",
    "n_mice = 2\n",
    "\n",
    "usvcam.analysis.create_assignment_video(data_dir, n_mice, color_eq=True)"
   ]
  }
 ],
 "metadata": {
  "interpreter": {
   "hash": "3ee514cbc7115f1768c0bffe8bde7b11c91dab87d4ddc6d77cc2037962d60707"
  },
  "kernelspec": {
   "name": "python3",
   "language": "python",
   "display_name": "Python 3 (ipykernel)"
  },
  "language_info": {
   "codemirror_mode": {
    "name": "ipython",
    "version": 3
   },
   "file_extension": ".py",
   "mimetype": "text/x-python",
   "name": "python",
   "nbconvert_exporter": "python",
   "pygments_lexer": "ipython3",
   "version": "3.6.10"
  },
  "orig_nbformat": 4
 },
 "nbformat": 4,
 "nbformat_minor": 2
}
