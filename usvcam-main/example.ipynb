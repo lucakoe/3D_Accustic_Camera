{
 "cells": [
  {
   "cell_type": "markdown",
   "metadata": {},
   "source": [
    "# Example codes for analyses with USVCAM\n",
    "*see also Chapter 4 in the user guide.*\n",
    "\n",
    "You can download example data from [here](https://1drv.ms/u/s!AlpK-j-ONYp37SV3Nf3b7ooyW8eb?e=txUYkZ) (1.7 GB)."
   ]
  },
  {
   "cell_type": "markdown",
   "metadata": {},
   "source": [
    "## importing the library"
   ]
  },
  {
   "cell_type": "code",
   "execution_count": 9,
   "metadata": {
    "ExecuteTime": {
     "end_time": "2023-07-10T02:14:24.916081300Z",
     "start_time": "2023-07-10T02:14:24.875879100Z"
    }
   },
   "outputs": [
    {
     "ename": "ModuleNotFoundError",
     "evalue": "No module named 'usvcam.tool'",
     "output_type": "error",
     "traceback": [
      "\u001B[1;31m---------------------------------------------------------------------------\u001B[0m",
      "\u001B[1;31mModuleNotFoundError\u001B[0m                       Traceback (most recent call last)",
      "Cell \u001B[1;32mIn[9], line 1\u001B[0m\n\u001B[1;32m----> 1\u001B[0m \u001B[38;5;28;01mimport\u001B[39;00m \u001B[38;5;21;01metc\u001B[39;00m\u001B[38;5;21;01m.\u001B[39;00m\u001B[38;5;21;01musvcam\u001B[39;00m\u001B[38;5;21;01m.\u001B[39;00m\u001B[38;5;21;01manalysis\u001B[39;00m \u001B[38;5;28;01mas\u001B[39;00m \u001B[38;5;21;01manalysis\u001B[39;00m \n",
      "File \u001B[1;32m~\\PycharmProjects\\Accustic_Camera\\usvcam-main\\etc\\usvcam\\analysis.py:1\u001B[0m\n\u001B[1;32m----> 1\u001B[0m \u001B[38;5;28;01mimport\u001B[39;00m \u001B[38;5;21;01musvcam\u001B[39;00m\u001B[38;5;21;01m.\u001B[39;00m\u001B[38;5;21;01mtool\u001B[39;00m \u001B[38;5;28;01mas\u001B[39;00m \u001B[38;5;21;01mtool\u001B[39;00m\n\u001B[0;32m      2\u001B[0m \u001B[38;5;28;01mimport\u001B[39;00m \u001B[38;5;21;01mglob\u001B[39;00m\n\u001B[0;32m      3\u001B[0m \u001B[38;5;28;01mimport\u001B[39;00m \u001B[38;5;21;01mos\u001B[39;00m\n",
      "\u001B[1;31mModuleNotFoundError\u001B[0m: No module named 'usvcam.tool'"
     ]
    }
   ],
   "source": [
    "import etc.usvcam.analysis as analysis"
   ]
  },
  {
   "cell_type": "markdown",
   "metadata": {},
   "source": [
    "## USV segmentation, step-1: converting dat file to wav file"
   ]
  },
  {
   "cell_type": "code",
   "execution_count": null,
   "metadata": {},
   "outputs": [],
   "source": [
    "data_dirs = ['./test_data/single_mouse',\n",
    "             './test_data/two_mice',]\n",
    "\n",
    "for data_dir in data_dirs:\n",
    "    usvcam.analysis.dat2wav(data_dir, 3)"
   ]
  },
  {
   "cell_type": "markdown",
   "metadata": {},
   "source": [
    "## USV segmentation, step-2: running USVSEG+\n",
    "**Before proceeding**, here, process the data directories with USVSEG+.\n",
    "\n",
    "See usvseg_plus/README.md for detail."
   ]
  },
  {
   "cell_type": "markdown",
   "metadata": {},
   "source": [
    "## Camera calibration"
   ]
  },
  {
   "cell_type": "code",
   "execution_count": null,
   "metadata": {},
   "outputs": [],
   "source": [
    "data_dir = './test_data/single_mouse'\n",
    "usvcam.analysis.calib_with_voc(data_dir, outpath='./test_data/micpos.h5')"
   ]
  },
  {
   "cell_type": "markdown",
   "metadata": {},
   "source": [
    "## (Optional) Creating a video to visualize USV localization"
   ]
  },
  {
   "cell_type": "code",
   "execution_count": null,
   "metadata": {},
   "outputs": [],
   "source": [
    "data_dir = './test_data/single_mouse'\n",
    "calibfile = './test_data/micpos.h5'\n",
    "usvcam.analysis.create_localization_video(data_dir, calibfile, color_eq=True)"
   ]
  },
  {
   "cell_type": "markdown",
   "metadata": {},
   "source": [
    "## Estimating parameters for USV assignment\n",
    "*This process takes hours. If you are using the test data and want to skip the process, download the result from [here](https://1drv.ms/u/s!AlpK-j-ONYp37SS_s967ZveXYM2D?e=h5GUqC).*"
   ]
  },
  {
   "cell_type": "code",
   "execution_count": null,
   "metadata": {},
   "outputs": [],
   "source": [
    "data_dir = './test_data/single_mouse'\n",
    "calibfile = './test_data/micpos.h5'\n",
    "assignfile = './test_data/assign_param.h5'\n",
    "\n",
    "usvcam.analysis.estimate_assign_param([data_dir], [calibfile], assignfile, show_figs=True)"
   ]
  },
  {
   "cell_type": "markdown",
   "metadata": {},
   "source": [
    "## USV assignment"
   ]
  },
  {
   "cell_type": "code",
   "execution_count": null,
   "metadata": {},
   "outputs": [],
   "source": [
    "data_dir = './test_data/two_mice'\n",
    "calibfile = './test_data/micpos.h5'\n",
    "assignfile = './test_data/assign_param.h5'\n",
    "n_mice = 2\n",
    "\n",
    "usvcam.analysis.assign_vocalizations(data_dir, calibfile, assignfile, n_mice)"
   ]
  },
  {
   "cell_type": "markdown",
   "metadata": {},
   "source": [
    "## (Optional) Creating a video to visualize USV assignment"
   ]
  },
  {
   "cell_type": "code",
   "execution_count": null,
   "metadata": {},
   "outputs": [],
   "source": [
    "data_dir = './test_data/two_mice'\n",
    "calibfile = './test_data/micpos.h5'\n",
    "assignfile = './test_data/assign_param.h5'\n",
    "n_mice = 2\n",
    "\n",
    "usvcam.analysis.create_assignment_video(data_dir, n_mice, color_eq=True)"
   ]
  }
 ],
 "metadata": {
  "interpreter": {
   "hash": "3ee514cbc7115f1768c0bffe8bde7b11c91dab87d4ddc6d77cc2037962d60707"
  },
  "kernelspec": {
   "name": "python3",
   "language": "python",
   "display_name": "Python 3 (ipykernel)"
  },
  "language_info": {
   "codemirror_mode": {
    "name": "ipython",
    "version": 3
   },
   "file_extension": ".py",
   "mimetype": "text/x-python",
   "name": "python",
   "nbconvert_exporter": "python",
   "pygments_lexer": "ipython3",
   "version": "3.6.10"
  },
  "orig_nbformat": 4
 },
 "nbformat": 4,
 "nbformat_minor": 2
}
