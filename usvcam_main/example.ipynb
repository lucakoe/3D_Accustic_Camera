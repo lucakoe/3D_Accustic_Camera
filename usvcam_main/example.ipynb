{
 "cells": [
  {
   "cell_type": "markdown",
   "metadata": {},
   "source": [
    "# Example codes for analyses with USVCAM\n",
    "*see also Chapter 4 in the user guide.*\n",
    "\n",
    "You can download example data from [here](https://1drv.ms/u/s!AlpK-j-ONYp37SV3Nf3b7ooyW8eb?e=txUYkZ) (1.7 GB)."
   ]
  },
  {
   "cell_type": "markdown",
   "metadata": {},
   "source": [
    "## importing the library"
   ]
  },
  {
   "cell_type": "code",
   "execution_count": 7,
   "metadata": {
    "ExecuteTime": {
     "end_time": "2023-07-10T02:58:24.925198Z",
     "start_time": "2023-07-10T02:58:24.909184500Z"
    }
   },
   "outputs": [],
   "source": [
    "import usvcam.analysis"
   ]
  },
  {
   "cell_type": "markdown",
   "metadata": {},
   "source": [
    "## USV segmentation, step-1: converting dat file to wav file"
   ]
  },
  {
   "cell_type": "code",
   "execution_count": 10,
   "metadata": {
    "ExecuteTime": {
     "end_time": "2023-07-10T03:01:51.418668200Z",
     "start_time": "2023-07-10T03:01:50.173802400Z"
    }
   },
   "outputs": [
    {
     "name": "stdout",
     "output_type": "stream",
     "text": [
      "C:\\Users\\experimenter\\PycharmProjects\\Accustic_Camera\\usvcam-main\n"
     ]
    }
   ],
   "source": [
    "data_dirs = ['./test_data/single_mouse',\n",
    "             './test_data/two_mice',]\n",
    "\n",
    "for data_dir in data_dirs:\n",
    "    usvcam.analysis.dat2wav(data_dir, 3)"
   ]
  },
  {
   "cell_type": "markdown",
   "metadata": {},
   "source": [
    "## USV segmentation, step-2: running USVSEG+\n",
    "**Before proceeding**, here, process the data directories with USVSEG+.\n",
    "\n",
    "See usvseg_plus/README.md for detail."
   ]
  },
  {
   "cell_type": "markdown",
   "metadata": {},
   "source": [
    "## Camera calibration"
   ]
  },
  {
   "cell_type": "markdown",
   "source": [],
   "metadata": {
    "collapsed": false
   }
  },
  {
   "cell_type": "code",
   "execution_count": 11,
   "metadata": {
    "ExecuteTime": {
     "end_time": "2023-07-10T03:19:22.960197800Z",
     "start_time": "2023-07-10T03:16:46.277991900Z"
    }
   },
   "outputs": [
    {
     "name": "stdout",
     "output_type": "stream",
     "text": [
      "pick clear (noiseless, strong) vocal segments - space key, pick; other keys, skip...\n",
      "Running optimization...\n",
      "iter:   1, f(x) = 5.987668170251029\n",
      "iter:   2, f(x) = 6.648256241012413\n",
      "iter:   3, f(x) = 9.401631928990636\n",
      "iter:   4, f(x) = 10.131208973924402\n",
      "iter:   5, f(x) = 10.529552681170323\n",
      "iter:   6, f(x) = 10.766351831106263\n",
      "iter:   7, f(x) = 10.896047656129669\n",
      "iter:   8, f(x) = 11.015078417997305\n",
      "iter:   9, f(x) = 11.343807768653281\n",
      "iter:  10, f(x) = 11.914173755462146\n",
      "iter:  11, f(x) = 12.805192039504178\n",
      "iter:  12, f(x) = 13.261982088580622\n",
      "iter:  13, f(x) = 13.327159270133944\n",
      "iter:  14, f(x) = 13.34364944015582\n",
      "iter:  15, f(x) = 13.402652459250687\n",
      "iter:  16, f(x) = 13.440895470801406\n",
      "iter:  17, f(x) = 13.462339972151003\n",
      "iter:  18, f(x) = 13.4984865820072\n",
      "iter:  19, f(x) = 13.536281190423196\n",
      "iter:  20, f(x) = 13.544120051245809\n",
      "iter:  21, f(x) = 13.553977836681288\n",
      "iter:  22, f(x) = 13.5560074634155\n",
      "iter:  23, f(x) = 13.556951072381104\n",
      "iter:  24, f(x) = 13.558349619587634\n",
      "iter:  25, f(x) = 13.559370015548803\n",
      "iter:  26, f(x) = 13.559572295142848\n",
      "iter:  27, f(x) = 13.559639387784058\n",
      "iter:  28, f(x) = 13.559712221312001\n",
      "iter:  29, f(x) = 13.559836194205316\n",
      "iter:  30, f(x) = 13.559849774293392\n",
      "iter:  31, f(x) = 13.55991684666809\n",
      "iter:  32, f(x) = 13.55992684029694\n",
      "iter:  33, f(x) = 13.559929232189763\n",
      "iter:  34, f(x) = 13.559932081112066\n",
      "iter:  35, f(x) = 13.559932818906153\n",
      "iter:  36, f(x) = 13.559933161631779\n",
      "iter:  37, f(x) = 13.559933471391684\n",
      "iter:  38, f(x) = 13.559933745350127\n",
      "iter:  39, f(x) = 13.559933954807303\n",
      "iter:  40, f(x) = 13.559934002700482\n",
      "iter:  41, f(x) = 13.559934022159068\n",
      "estimated micpos:\n",
      "[[-0.0508      0.0056      0.0065    ]\n",
      " [-0.05817474  0.00556953  0.00624092]\n",
      " [-0.05059321  0.01294029  0.00643796]\n",
      " [-0.05751105  0.01283797  0.00645687]]\n",
      "the result is saved in: ./test_data/micpos.h5\n",
      "done.\n"
     ]
    }
   ],
   "source": [
    "data_dir = './test_data/single_mouse'\n",
    "usvcam.analysis.calib_with_voc(data_dir, outpath='./test_data/micpos.h5')"
   ]
  },
  {
   "cell_type": "markdown",
   "metadata": {},
   "source": [
    "## (Optional) Creating a video to visualize USV localization"
   ]
  },
  {
   "cell_type": "code",
   "execution_count": null,
   "metadata": {},
   "outputs": [],
   "source": [
    "data_dir = './test_data/single_mouse'\n",
    "calibfile = './test_data/micpos.h5'\n",
    "usvcam.analysis.create_localization_video(data_dir, calibfile, color_eq=True)"
   ]
  },
  {
   "cell_type": "markdown",
   "metadata": {},
   "source": [
    "## Estimating parameters for USV assignment\n",
    "*This process takes hours. If you are using the test data and want to skip the process, download the result from [here](https://1drv.ms/u/s!AlpK-j-ONYp37SS_s967ZveXYM2D?e=h5GUqC).*"
   ]
  },
  {
   "cell_type": "code",
   "execution_count": null,
   "metadata": {},
   "outputs": [],
   "source": [
    "data_dir = './test_data/single_mouse'\n",
    "calibfile = './test_data/micpos.h5'\n",
    "assignfile = './test_data/assign_param.h5'\n",
    "\n",
    "usvcam.analysis.estimate_assign_param([data_dir], [calibfile], assignfile, show_figs=True)"
   ]
  },
  {
   "cell_type": "markdown",
   "metadata": {},
   "source": [
    "## USV assignment"
   ]
  },
  {
   "cell_type": "code",
   "execution_count": null,
   "metadata": {},
   "outputs": [],
   "source": [
    "data_dir = './test_data/two_mice'\n",
    "calibfile = './test_data/micpos.h5'\n",
    "assignfile = './test_data/assign_param.h5'\n",
    "n_mice = 2\n",
    "\n",
    "usvcam.analysis.assign_vocalizations(data_dir, calibfile, assignfile, n_mice)"
   ]
  },
  {
   "cell_type": "markdown",
   "metadata": {},
   "source": [
    "## (Optional) Creating a video to visualize USV assignment"
   ]
  },
  {
   "cell_type": "code",
   "execution_count": null,
   "metadata": {},
   "outputs": [],
   "source": [
    "data_dir = './test_data/two_mice'\n",
    "calibfile = './test_data/micpos.h5'\n",
    "assignfile = './test_data/assign_param.h5'\n",
    "n_mice = 2\n",
    "\n",
    "usvcam.analysis.create_assignment_video(data_dir, n_mice, color_eq=True)"
   ]
  }
 ],
 "metadata": {
  "interpreter": {
   "hash": "3ee514cbc7115f1768c0bffe8bde7b11c91dab87d4ddc6d77cc2037962d60707"
  },
  "kernelspec": {
   "name": "python3",
   "language": "python",
   "display_name": "Python 3 (ipykernel)"
  },
  "language_info": {
   "codemirror_mode": {
    "name": "ipython",
    "version": 3
   },
   "file_extension": ".py",
   "mimetype": "text/x-python",
   "name": "python",
   "nbconvert_exporter": "python",
   "pygments_lexer": "ipython3",
   "version": "3.6.10"
  },
  "orig_nbformat": 4
 },
 "nbformat": 4,
 "nbformat_minor": 2
}
